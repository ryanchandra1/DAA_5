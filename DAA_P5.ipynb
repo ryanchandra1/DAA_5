{
  "nbformat": 4,
  "nbformat_minor": 0,
  "metadata": {
    "colab": {
      "provenance": [],
      "collapsed_sections": [],
      "authorship_tag": "ABX9TyPwnjQCAcBWdw+AoEKyR+xM",
      "include_colab_link": true
    },
    "kernelspec": {
      "name": "python3",
      "display_name": "Python 3"
    },
    "language_info": {
      "name": "python"
    }
  },
  "cells": [
    {
      "cell_type": "markdown",
      "metadata": {
        "id": "view-in-github",
        "colab_type": "text"
      },
      "source": [
        "<a href=\"https://colab.research.google.com/github/ryanchandra1/DAA_5/blob/main/DAA_P5.ipynb\" target=\"_parent\"><img src=\"https://colab.research.google.com/assets/colab-badge.svg\" alt=\"Open In Colab\"/></a>"
      ]
    },
    {
      "cell_type": "code",
      "execution_count": null,
      "metadata": {
        "id": "NAaOmnIzo2ng"
      },
      "outputs": [],
      "source": [
        "#Hitung Inversi\n",
        "\n",
        "def countInversion(arr):\n",
        "  result=0\n",
        "  for i in range(len(arr)):\n",
        "    for j in range(i+1,len(arr)):\n",
        "      if arr[i]>arr[j]:\n",
        "          result+=1\n",
        "  return result"
      ]
    },
    {
      "cell_type": "code",
      "source": [
        "arr = [5,4,3,2,1]"
      ],
      "metadata": {
        "id": "EoqmTjSdpX4R"
      },
      "execution_count": null,
      "outputs": []
    },
    {
      "cell_type": "code",
      "source": [
        "result=countInversion(arr)\n",
        "print(result)"
      ],
      "metadata": {
        "colab": {
          "base_uri": "https://localhost:8080/"
        },
        "id": "0XWQu7xYpgKv",
        "outputId": "ea969af4-fbca-4360-df76-9c6ede39f8f0"
      },
      "execution_count": null,
      "outputs": [
        {
          "output_type": "stream",
          "name": "stdout",
          "text": [
            "10\n"
          ]
        }
      ]
    },
    {
      "cell_type": "code",
      "source": [
        "#Hitung inversi dengan divide and conquer\n",
        "\n",
        "def countInversion(arr):\n",
        "  icount=0\n",
        "  if len(arr)<=1:\n",
        "      return icount\n",
        "\n",
        "  mid=len(arr)//2\n",
        "  left=arr[:mid]\n",
        "  right=arr[mid:]\n",
        "  icount+=countInversion(left)\n",
        "  icount+=countInversion(right)\n",
        "  i=j=k=0\n",
        "\n",
        "  #print(left)\n",
        "  #print(right)\n",
        "  while i<len(left) and j<len(right):\n",
        "        if left[i]<right[j]:  \n",
        "            arr[k]=left[i]\n",
        "            i+=1  \n",
        "        else:  \n",
        "        #print(left[i],right[j])\n",
        "            arr[k]=right[j]\n",
        "            j+=1\n",
        "            icount+=(mid-i)\n",
        "        k+=1\n",
        "\n",
        "  while i<len(left):\n",
        "         arr[k]=left[i]\n",
        "         i+=1\n",
        "         k+=1\n",
        "  while j<len(right):\n",
        "         arr[k]=right[j]\n",
        "         j+=1\n",
        "         k+=1\n",
        "\n",
        "  return icount "
      ],
      "metadata": {
        "id": "MoH6H2popl1N"
      },
      "execution_count": null,
      "outputs": []
    },
    {
      "cell_type": "code",
      "source": [
        "arr = [1,20,6,4,5]"
      ],
      "metadata": {
        "id": "k24xcX3lvivk"
      },
      "execution_count": null,
      "outputs": []
    },
    {
      "cell_type": "code",
      "source": [
        "result = countInversion(arr)\n",
        "print(result)"
      ],
      "metadata": {
        "colab": {
          "base_uri": "https://localhost:8080/"
        },
        "id": "MlbcdOpzvni8",
        "outputId": "488d3c2e-348a-499f-ee3b-7710197251b5"
      },
      "execution_count": null,
      "outputs": [
        {
          "output_type": "stream",
          "name": "stdout",
          "text": [
            "0\n"
          ]
        }
      ]
    },
    {
      "cell_type": "code",
      "source": [
        "#Tanpa divide dan conquer\n",
        "\n",
        "def maxSubSum(arr):\n",
        "  max_so_far=0\n",
        "  max_ending_here=0\n",
        "  for i in range (len(arr)):\n",
        "      max_ending_here+=arr[i]\n",
        "      if max_ending_here>max_so_far:\n",
        "           max_so_far=max_ending_here\n",
        "      if max_ending_here<0:\n",
        "          max_ending_here=0\n",
        "  return max_so_far       "
      ],
      "metadata": {
        "id": "4L3mkT8r4RAZ"
      },
      "execution_count": null,
      "outputs": []
    },
    {
      "cell_type": "code",
      "source": [
        "arr=[-2,-5,6,-2,-3,1,5,-6]\n",
        "result = maxSubSum(arr)\n",
        "print(result)"
      ],
      "metadata": {
        "colab": {
          "base_uri": "https://localhost:8080/"
        },
        "id": "owPKhs_B6Qx8",
        "outputId": "9d6ad4b8-09e6-4188-ec8e-0b1fe20d4fdc"
      },
      "execution_count": null,
      "outputs": [
        {
          "output_type": "stream",
          "name": "stdout",
          "text": [
            "7\n"
          ]
        }
      ]
    },
    {
      "cell_type": "code",
      "source": [
        "#menggunakan Divide and conquer\n",
        "\n",
        "def maxCrossingSum(arr,low,mid,high):\n",
        "  result=0; leftSum=float('-infinity')\n",
        "  for i in range(mid,low-1,-1):\n",
        "      result+=arr[i]\n",
        "      if result>leftSum:\n",
        "          leftSum=result\n",
        "  result=0; rightSum=float('-infinity')\n",
        "  for i in range(mid+1,high+1):\n",
        "      result+=arr[i]\n",
        "      if result>rightSum:\n",
        "          rightSum=result\n",
        "  return leftSum+rightSum\n",
        "\n",
        "\n",
        "def maxSum(arr,low,high):\n",
        "    if low==high:\n",
        "        return arr[low]\n",
        "    mid=(low+high)//2\n",
        "    return max(maxSum(arr,low,mid),maxSum(arr,mid+1,high),maxCrossingSum(arr,low,mid,high))\n"
      ],
      "metadata": {
        "id": "g4qIBG2U8xhQ"
      },
      "execution_count": null,
      "outputs": []
    },
    {
      "cell_type": "code",
      "source": [
        "arr=[-2,-5,6,-2,-3,1,5,-6]\n",
        "result=maxSum(arr,0,len(arr)-1)\n",
        "print(result)"
      ],
      "metadata": {
        "colab": {
          "base_uri": "https://localhost:8080/"
        },
        "id": "Cd8Ka3KJ9-U9",
        "outputId": "19787e66-cb60-4182-fb7f-b1a8deb72a4c"
      },
      "execution_count": null,
      "outputs": [
        {
          "output_type": "stream",
          "name": "stdout",
          "text": [
            "7\n"
          ]
        }
      ]
    },
    {
      "cell_type": "code",
      "source": [
        "#Dengan divide dan conqueer \n",
        "\n",
        "def commonPrefix(str1,str2):\n",
        "    n1=len(str1);n2=len(str2)\n",
        "    i,j=0,0\n",
        "    s=\"\"\n",
        "    while i<n1 and j<n2:\n",
        "        if str1[i]==str2[j]:\n",
        "            s+=str1[i]\n",
        "            i+=1\n",
        "            j+=1\n",
        "        else:\n",
        "            break\n",
        "    return s"
      ],
      "metadata": {
        "id": "HKT3Ab8aB-JI"
      },
      "execution_count": null,
      "outputs": []
    },
    {
      "cell_type": "code",
      "source": [
        "def longestCommonPrefix(arr,low,high):\n",
        "  if low==high:\n",
        "        return arr[low]\n",
        "  mid=(low+high)//2\n",
        "  result1=longestCommonPrefix(arr,low,mid)\n",
        "  result2=longestCommonPrefix(arr,mid+1,high)\n",
        "  result=commonPrefix(result1,result2)\n",
        "  return result "
      ],
      "metadata": {
        "id": "BDDrYsBfCgCn"
      },
      "execution_count": null,
      "outputs": []
    },
    {
      "cell_type": "code",
      "source": [
        "arr=['geeksforfekks', 'geeks', 'geek', 'geezer']"
      ],
      "metadata": {
        "id": "L-KApRFlDAz5"
      },
      "execution_count": null,
      "outputs": []
    },
    {
      "cell_type": "code",
      "source": [
        "result=longestCommonPrefix(arr,0,len(arr)-1)"
      ],
      "metadata": {
        "id": "L8EY-x6fDHg7"
      },
      "execution_count": null,
      "outputs": []
    },
    {
      "cell_type": "code",
      "source": [
        "print(result)"
      ],
      "metadata": {
        "colab": {
          "base_uri": "https://localhost:8080/"
        },
        "id": "OGrvJxwGDN5E",
        "outputId": "1be1fba3-8245-481e-b19b-a4971b10bffd"
      },
      "execution_count": null,
      "outputs": [
        {
          "output_type": "stream",
          "name": "stdout",
          "text": [
            "gee\n"
          ]
        }
      ]
    },
    {
      "cell_type": "code",
      "source": [
        "arr=[\"apple\", \"ape\", \"april\"]\n",
        "result=longestCommonPrefix(arr,0,len(arr)-1)\n",
        "print(result)"
      ],
      "metadata": {
        "colab": {
          "base_uri": "https://localhost:8080/"
        },
        "id": "aNGFELqmDPo1",
        "outputId": "fcfaa715-a6bf-4bc5-afa3-dfb99ed4ca07"
      },
      "execution_count": null,
      "outputs": [
        {
          "output_type": "stream",
          "name": "stdout",
          "text": [
            "ap\n"
          ]
        }
      ]
    },
    {
      "cell_type": "code",
      "source": [
        "# Median dari dua array dengan divide dan conquer\n",
        "\n",
        "def medianOfArray(arr1,arr2,n):\n",
        "    m1=-1#first number\n",
        "    m2=-1#second number\n",
        "    count=0\n",
        "    i=j=0\n",
        "    while count<n+1:\n",
        "      count+=1\n",
        "      if i==n:# i==5 index error if arr1[i]<arr2[j]is checked\n",
        "          m1=m2\n",
        "          m2=arr2[0]\n",
        "          break\n",
        "      if j==n:\n",
        "          m1=m2\n",
        "          m2=arr1[0]\n",
        "          break\n",
        "      if arr1[i]<arr2[j]:\n",
        "          m1=m2\n",
        "          m2=arr1[i]\n",
        "          i+=1\n",
        "      else:\n",
        "        m1=m2\n",
        "        m2=arr2[j]\n",
        "        j+=1\n",
        "    return (m1+m2)//2"
      ],
      "metadata": {
        "id": "UUqeUly5GEg0"
      },
      "execution_count": null,
      "outputs": []
    },
    {
      "cell_type": "code",
      "source": [
        "arr1=[91,92,93,94,95,96]\n",
        "arr2=[82,83,84,85,86,87]"
      ],
      "metadata": {
        "id": "FNYXc9VsH8s8"
      },
      "execution_count": null,
      "outputs": []
    },
    {
      "cell_type": "code",
      "source": [
        "print(medianOfArray(arr1,arr2,len(arr1)))"
      ],
      "metadata": {
        "colab": {
          "base_uri": "https://localhost:8080/"
        },
        "id": "I-EkNraLIKIn",
        "outputId": "b9375b65-fd5d-4119-c7b1-1ed83d3cedab"
      },
      "execution_count": null,
      "outputs": [
        {
          "output_type": "stream",
          "name": "stdout",
          "text": [
            "89\n"
          ]
        }
      ]
    },
    {
      "cell_type": "code",
      "source": [
        "# Floor in sorted array\n",
        "\n",
        "def floorSorted(arr,low,high,x):\n",
        "  #print(low,high)\n",
        "  if low>high:\n",
        "      return -1\n",
        "\n",
        "  if arr[low]>x:\n",
        "    #print(\"inside\")\n",
        "      return -1\n",
        "\n",
        "  if arr[high]<=x:\n",
        "      return arr[high]\n",
        "\n",
        "  mid=(low+high)//2\n",
        "\n",
        "  if arr[mid]==x: \n",
        "      return arr[mid]\n",
        "\n",
        "  if mid>0 and x>=arr[mid-1] and arr[mid]>x:\n",
        "      return arr[mid-1]\n",
        "\n",
        "  if mid<high and x<arr[mid+1] and x>=arr[mid]:\n",
        "      return arr[mid]\n",
        "\n",
        "  if x>arr[mid]:\n",
        "      return floorSorted(arr,mid+1,high,x)\n",
        "\n",
        "  else:\n",
        "      return floorSorted(arr,low,mid-1,x)                "
      ],
      "metadata": {
        "id": "qFpNBW22IYf-"
      },
      "execution_count": null,
      "outputs": []
    },
    {
      "cell_type": "code",
      "source": [
        "arr=[1,2,8,10,12,14,19]"
      ],
      "metadata": {
        "id": "C4qplSKBMcDQ"
      },
      "execution_count": null,
      "outputs": []
    },
    {
      "cell_type": "code",
      "source": [
        "x=5"
      ],
      "metadata": {
        "id": "9qm3wQBaM3YD"
      },
      "execution_count": null,
      "outputs": []
    },
    {
      "cell_type": "code",
      "source": [
        "print(floorSorted(arr,0,len(arr)-1,x))"
      ],
      "metadata": {
        "colab": {
          "base_uri": "https://localhost:8080/"
        },
        "id": "1x0xGCuYM39X",
        "outputId": "bae443bf-1839-430d-c73d-5e978f0ed607"
      },
      "execution_count": null,
      "outputs": [
        {
          "output_type": "stream",
          "name": "stdout",
          "text": [
            "2\n"
          ]
        }
      ]
    },
    {
      "cell_type": "code",
      "source": [
        "# Mencari nilai terdekat dengan metode divide dan conquer\n",
        "\n",
        "def closestNumber(arr,low,high,x):\n",
        "    if low>high:\n",
        "      return -1\n",
        "    if arr[high]<=x:\n",
        "      return arr[high]\n",
        "    if arr[low]>=x:\n",
        "      return arr[low]\n",
        "    mid=(low+high)//2\n",
        "    if arr[mid]==x:\n",
        "      return arr[mid]\n",
        "    abs_mid=abs(arr[mid]-x)\n",
        "    if mid>0:\n",
        "        abs_left=abs(arr[mid-1]-x)\n",
        "        if abs_left<abs_mid:\n",
        "          return closestNumber(arr,low,mid-1,x)\n",
        "    if mid<high:\n",
        "      abs_right=abs(arr[mid+1]-x)\n",
        "      if abs_right<abs_mid:\n",
        "        return closestNumber(arr,mid+1,high,x)\n",
        "    #print('after')\n",
        "    return arr[mid]"
      ],
      "metadata": {
        "id": "tm8ovu9IO7VC"
      },
      "execution_count": null,
      "outputs": []
    },
    {
      "cell_type": "code",
      "source": [
        "arr=[2,5,6,7,8,8,9]"
      ],
      "metadata": {
        "id": "s-JIConOQq1M"
      },
      "execution_count": null,
      "outputs": []
    },
    {
      "cell_type": "code",
      "source": [
        "x = 14"
      ],
      "metadata": {
        "id": "-cTuhupBQucx"
      },
      "execution_count": null,
      "outputs": []
    },
    {
      "cell_type": "code",
      "source": [
        "print(closestNumber(arr,0,len(arr)-1,x))"
      ],
      "metadata": {
        "colab": {
          "base_uri": "https://localhost:8080/"
        },
        "id": "V9Ey8Q_FQu71",
        "outputId": "367487a3-7742-4e90-83fe-6325accc0982"
      },
      "execution_count": null,
      "outputs": [
        {
          "output_type": "stream",
          "name": "stdout",
          "text": [
            "9\n"
          ]
        }
      ]
    },
    {
      "cell_type": "code",
      "source": [
        "# Mencari Fixed Point dengan metode divide dan conquer \n",
        "\n",
        "def fixedPoint(arr,low,high):\n",
        "  if low>high:\n",
        "    return -1\n",
        "  if arr[high]==high:\n",
        "    return arr[high]\n",
        "  if arr[low]==low:\n",
        "    return arr[low]\n",
        "  mid=(low+high)//2\n",
        "  if arr[mid]==mid:\n",
        "    return arr[mid]\n",
        "  if mid>arr[mid]:\n",
        "    return fixedPoint(arr,mid+1,high)\n",
        "  else:\n",
        "    return fixedPoint(arr,low,mid-1)"
      ],
      "metadata": {
        "id": "A7Gpu5l4Q3LM"
      },
      "execution_count": null,
      "outputs": []
    },
    {
      "cell_type": "code",
      "source": [
        "arr=[9,1,4,5,2]"
      ],
      "metadata": {
        "id": "HVT7nOD8VEXi"
      },
      "execution_count": null,
      "outputs": []
    },
    {
      "cell_type": "code",
      "source": [
        "print(fixedPoint(arr,0,len(arr)-1))"
      ],
      "metadata": {
        "colab": {
          "base_uri": "https://localhost:8080/"
        },
        "id": "GIk83D0hVHDy",
        "outputId": "6dba9bbd-de0e-419e-9ca2-c5ea32e6c33e"
      },
      "execution_count": null,
      "outputs": [
        {
          "output_type": "stream",
          "name": "stdout",
          "text": [
            "1\n"
          ]
        }
      ]
    }
  ]
}